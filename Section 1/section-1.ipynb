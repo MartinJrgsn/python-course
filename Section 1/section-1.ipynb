{
 "cells": [
  {
   "cell_type": "markdown",
   "id": "9cf55cda-de9e-4a06-a1e6-0a28b3e0f828",
   "metadata": {},
   "source": [
    "# Datatypes"
   ]
  },
  {
   "cell_type": "markdown",
   "id": "37f82502-8974-4774-be9d-7e75db24996d",
   "metadata": {},
   "source": [
    "## Integers"
   ]
  },
  {
   "cell_type": "code",
   "execution_count": 3,
   "id": "3b16e376-3e82-493a-99a8-eb64846b3124",
   "metadata": {},
   "outputs": [],
   "source": [
    "my_integer = 10 # Assign the value 10 to the variable `my_integer`"
   ]
  },
  {
   "cell_type": "code",
   "execution_count": 4,
   "id": "aa8bfda3-1764-488d-b6db-555d1a9074eb",
   "metadata": {},
   "outputs": [
    {
     "data": {
      "text/plain": [
       "int"
      ]
     },
     "execution_count": 4,
     "metadata": {},
     "output_type": "execute_result"
    }
   ],
   "source": [
    "type(my_integer) # Inspect the datatype for `my_integer`"
   ]
  },
  {
   "cell_type": "code",
   "execution_count": 5,
   "id": "0794b2be-f196-4197-adc9-ce387d22fbf6",
   "metadata": {},
   "outputs": [
    {
     "name": "stdout",
     "output_type": "stream",
     "text": [
      "10\n"
     ]
    }
   ],
   "source": [
    "print(my_integer) # Print `my_integer` to standard output"
   ]
  },
  {
   "cell_type": "code",
   "execution_count": 6,
   "id": "3ccd7055-18cc-43a8-9751-fd881bb78568",
   "metadata": {},
   "outputs": [
    {
     "data": {
      "text/plain": [
       "10"
      ]
     },
     "execution_count": 6,
     "metadata": {},
     "output_type": "execute_result"
    }
   ],
   "source": [
    "my_integer # Show the value of `my_integer` in standard output"
   ]
  },
  {
   "cell_type": "code",
   "execution_count": 7,
   "id": "12b85280-e6e3-4948-ab26-9f52b201f329",
   "metadata": {},
   "outputs": [
    {
     "data": {
      "text/plain": [
       "10"
      ]
     },
     "execution_count": 7,
     "metadata": {},
     "output_type": "execute_result"
    }
   ],
   "source": [
    "my_integer\n",
    "my_integer # Shows the value of `my_integer` in standard output once"
   ]
  },
  {
   "cell_type": "code",
   "execution_count": 8,
   "id": "941a68aa-dac5-4983-842d-44b63a014c59",
   "metadata": {},
   "outputs": [
    {
     "name": "stdout",
     "output_type": "stream",
     "text": [
      "10\n",
      "10\n"
     ]
    }
   ],
   "source": [
    "print(my_integer) # Print `my_integer` to standard output\n",
    "print(my_integer) # Print `my_integer` to standard output"
   ]
  },
  {
   "cell_type": "markdown",
   "id": "b21ff39e-2213-45bc-b385-8637247f334f",
   "metadata": {},
   "source": [
    "### Arithmetic operations"
   ]
  },
  {
   "cell_type": "code",
   "execution_count": 10,
   "id": "2a371fad-5a4e-49c3-8aa7-3efb5c350343",
   "metadata": {},
   "outputs": [
    {
     "name": "stdout",
     "output_type": "stream",
     "text": [
      "15\n"
     ]
    }
   ],
   "source": [
    "print(my_integer + 5)"
   ]
  },
  {
   "cell_type": "code",
   "execution_count": 11,
   "id": "25411d5f-20f8-45a9-8c0e-644da03108c5",
   "metadata": {},
   "outputs": [
    {
     "name": "stdout",
     "output_type": "stream",
     "text": [
      "5\n"
     ]
    }
   ],
   "source": [
    "print(my_integer - 5)"
   ]
  },
  {
   "cell_type": "code",
   "execution_count": 12,
   "id": "9a5a3dc5-aac4-44f0-b89a-42e4df108b42",
   "metadata": {},
   "outputs": [
    {
     "name": "stdout",
     "output_type": "stream",
     "text": [
      "100\n"
     ]
    }
   ],
   "source": [
    "print(my_integer*my_integer)"
   ]
  },
  {
   "cell_type": "code",
   "execution_count": 13,
   "id": "52c4216c-b1da-418b-be96-e6bf35420021",
   "metadata": {},
   "outputs": [
    {
     "name": "stdout",
     "output_type": "stream",
     "text": [
      "0.1\n"
     ]
    }
   ],
   "source": [
    "print(1/my_integer)"
   ]
  },
  {
   "cell_type": "markdown",
   "id": "a56c3eaf-2ec4-49aa-9441-1ca93383c6dc",
   "metadata": {},
   "source": [
    "## Floats"
   ]
  },
  {
   "cell_type": "code",
   "execution_count": 15,
   "id": "c6ae338a-71ed-4e4b-aa62-a7c47e4e6b87",
   "metadata": {},
   "outputs": [],
   "source": [
    "my_float = 1/my_integer"
   ]
  },
  {
   "cell_type": "code",
   "execution_count": 16,
   "id": "6200d5f4-d667-4b05-afef-60d7f4655cd4",
   "metadata": {},
   "outputs": [
    {
     "name": "stdout",
     "output_type": "stream",
     "text": [
      "0.1\n"
     ]
    }
   ],
   "source": [
    "print(my_float)"
   ]
  },
  {
   "cell_type": "code",
   "execution_count": 17,
   "id": "ba509cfe-f348-497a-9a1b-eba4f6aeb7da",
   "metadata": {},
   "outputs": [
    {
     "data": {
      "text/plain": [
       "float"
      ]
     },
     "execution_count": 17,
     "metadata": {},
     "output_type": "execute_result"
    }
   ],
   "source": [
    "type(my_float)"
   ]
  },
  {
   "cell_type": "code",
   "execution_count": 18,
   "id": "12dd2bd8-5cdf-42f3-8135-ba503f9f6b20",
   "metadata": {},
   "outputs": [
    {
     "name": "stdout",
     "output_type": "stream",
     "text": [
      "<class 'float'>\n"
     ]
    }
   ],
   "source": [
    "print(type(my_float))"
   ]
  },
  {
   "cell_type": "markdown",
   "id": "639208c1-fb32-4759-a012-71f620e9fc0f",
   "metadata": {},
   "source": [
    "## Strings"
   ]
  },
  {
   "cell_type": "code",
   "execution_count": 20,
   "id": "999d5cde-2081-4f98-b216-3c1051cad344",
   "metadata": {},
   "outputs": [
    {
     "name": "stdout",
     "output_type": "stream",
     "text": [
      "Hello World!\n"
     ]
    }
   ],
   "source": [
    "print(\"Hello World!\")"
   ]
  },
  {
   "cell_type": "code",
   "execution_count": 21,
   "id": "dfbde0f4-5d9f-4ba5-bea6-d791e6e24aa7",
   "metadata": {},
   "outputs": [
    {
     "name": "stdout",
     "output_type": "stream",
     "text": [
      "Hello World!\n",
      "Hello World!\n",
      "Hello World!\n"
     ]
    }
   ],
   "source": [
    "hello = \"Hello\"\n",
    "space = \" \"\n",
    "world = \"World\"\n",
    "exclamation_mark = \"!\"\n",
    "\n",
    "print(hello + space + world + exclamation_mark)\n",
    "print(hello, world + exclamation_mark)\n",
    "print(f\"{hello} {world}{exclamation_mark}\")"
   ]
  },
  {
   "cell_type": "code",
   "execution_count": 22,
   "id": "aee2e231-8a5d-4cb0-903e-a23bd0eee3ac",
   "metadata": {},
   "outputs": [
    {
     "name": "stdout",
     "output_type": "stream",
     "text": [
      "Hello World!\n"
     ]
    }
   ],
   "source": [
    "my_string = \"Hello World!\"\n",
    "print(my_string)"
   ]
  }
 ],
 "metadata": {
  "kernelspec": {
   "display_name": "Python 3 (ipykernel)",
   "language": "python",
   "name": "python3"
  },
  "language_info": {
   "codemirror_mode": {
    "name": "ipython",
    "version": 3
   },
   "file_extension": ".py",
   "mimetype": "text/x-python",
   "name": "python",
   "nbconvert_exporter": "python",
   "pygments_lexer": "ipython3",
   "version": "3.12.7"
  }
 },
 "nbformat": 4,
 "nbformat_minor": 5
}
